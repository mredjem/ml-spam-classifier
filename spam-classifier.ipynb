{
 "cells": [
  {
   "cell_type": "code",
   "execution_count": 457,
   "metadata": {},
   "outputs": [],
   "source": [
    "%matplotlib inline\n",
    "import numpy as np\n",
    "import nltk"
   ]
  },
  {
   "cell_type": "code",
   "execution_count": 40,
   "metadata": {},
   "outputs": [],
   "source": [
    "from urllib.request import urlretrieve\n",
    "import os\n",
    "import tarfile\n",
    "\n",
    "DOWNLOAD_ROOT = 'https://spamassassin.apache.org/old/publiccorpus/'\n",
    "SPAM_FILE = '20030228_spam.tar.bz2'\n",
    "HAM_FILE  = '20030228_easy_ham.tar.bz2'\n",
    "DATA_PATH = 'datasets'\n",
    "\n",
    "def fetch_spam_data():\n",
    "    if not os.path.exists(DATA_PATH):\n",
    "        os.makedirs(DATA_PATH)\n",
    "    \n",
    "    spam_path = os.path.join(DATA_PATH, SPAM_FILE)\n",
    "    ham_path  = os.path.join(DATA_PATH, HAM_FILE)\n",
    "    \n",
    "    if not os.path.isfile(spam_path):\n",
    "        urlretrieve(DOWNLOAD_ROOT + SPAM_FILE, spam_path)\n",
    "            \n",
    "    if not os.path.isfile(ham_path):\n",
    "        urlretrieve(DOWNLOAD_ROOT + HAM_FILE, ham_path)\n",
    "            \n",
    "    file = tarfile.open(spam_path)\n",
    "    file.extractall(path=DATA_PATH)\n",
    "    file.close()\n",
    "    \n",
    "    file = tarfile.open(ham_path)\n",
    "    file.extractall(path=DATA_PATH)\n",
    "    file.close()"
   ]
  },
  {
   "cell_type": "code",
   "execution_count": 41,
   "metadata": {},
   "outputs": [],
   "source": [
    "fetch_spam_data()"
   ]
  },
  {
   "cell_type": "code",
   "execution_count": 42,
   "metadata": {},
   "outputs": [],
   "source": [
    "SPAM_DIR = os.path.join(DATA_PATH, 'spam')\n",
    "HAM_DIR  = os.path.join(DATA_PATH, 'easy_ham')\n",
    "\n",
    "spam_filenames = [filename for filename in sorted(os.listdir(SPAM_DIR)) if len(filename) > 10]\n",
    "ham_filenames  = [filename for filename in sorted(os.listdir(HAM_DIR))  if len(filename) > 10]"
   ]
  },
  {
   "cell_type": "code",
   "execution_count": 43,
   "metadata": {},
   "outputs": [],
   "source": [
    "import email\n",
    "\n",
    "def parse_email(filename, is_spam=False):\n",
    "    with open(os.path.join(SPAM_DIR if is_spam else HAM_DIR, filename), encoding='latin-1') as file:\n",
    "        return email.message_from_file(file)"
   ]
  },
  {
   "cell_type": "code",
   "execution_count": 44,
   "metadata": {},
   "outputs": [],
   "source": [
    "spam_emails = [parse_email(filename, is_spam=True)  for filename in spam_filenames]\n",
    "ham_emails  = [parse_email(filename, is_spam=False) for filename in ham_filenames]"
   ]
  },
  {
   "cell_type": "code",
   "execution_count": 45,
   "metadata": {},
   "outputs": [
    {
     "data": {
      "text/plain": [
       "'multipart/signed'"
      ]
     },
     "execution_count": 45,
     "metadata": {},
     "output_type": "execute_result"
    }
   ],
   "source": [
    "ham_emails[1604].get_content_type()"
   ]
  },
  {
   "cell_type": "code",
   "execution_count": 46,
   "metadata": {},
   "outputs": [
    {
     "data": {
      "text/plain": [
       "Counter({'multipart/alternative': 56,\n",
       "         'multipart/mixed': 53,\n",
       "         'multipart/related': 12,\n",
       "         'multipart/report': 2,\n",
       "         'multipart/signed': 68,\n",
       "         'text/html': 183,\n",
       "         'text/plain': 2626})"
      ]
     },
     "execution_count": 46,
     "metadata": {},
     "output_type": "execute_result"
    }
   ],
   "source": [
    "from collections import Counter\n",
    "\n",
    "content_types = [email.get_content_type() for email in ham_emails + spam_emails]\n",
    "ctype_counter = Counter(content_types)\n",
    "ctype_counter"
   ]
  },
  {
   "cell_type": "code",
   "execution_count": 162,
   "metadata": {},
   "outputs": [],
   "source": [
    "def get_message_content(email):\n",
    "    payload = email.get_payload()\n",
    "    if isinstance(payload, str):\n",
    "        return payload\n",
    "    content = ''\n",
    "    for part in payload:\n",
    "        if isinstance(part, str):\n",
    "            return ''.join(payload)\n",
    "        content += get_message_content(part)\n",
    "    return content"
   ]
  },
  {
   "cell_type": "code",
   "execution_count": 163,
   "metadata": {},
   "outputs": [
    {
     "data": {
      "text/plain": [
       "\"Error 230 occurs when you report a signature, but the server doesn't\\nknow about the signature, so it wants the full content.  It's\\nbasically an optimization. =20\\n\\nBeyond that, I'm not sure how to interpret that output.. what version?\\nVipul?\\n\\n--jordan\\n\\nOn Wed, Oct 02, 2002 at 11:59:01PM -0400, Rose, Bobby wrote:\\n# What does this mean?  I set up procmailrc for a spamtrap but I'm getting\\n# an error.  I also am reporting to pyzor and dcc and they aren't\\n# registering an error.  What's weird is that it works sometimes.\\n#=20\\n# .\\n# Oct 02 23:46:11.470523 report[14051]: [ 4] honor.cloudmark.com >> 20\\n# Oct 02 23:46:11.470805 report[14051]: [ 6] response to sent.3\\n# -res=3D1\\n# err=3D230\\n# .\\n# Oct 02 23:46:11.471825 report[14051]: [ 5] mail 1, orig_email, special\\n# case eng 1: Server accept\\n# ed report.\\n# Oct 02 23:46:11.472228 report[14051]: [ 8] mail 1.0, eng 4: err 230 -\\n# server wants mail\\n#=20\\n#=20\\n# -------------------------------------------------------\\n# This sf.net email is sponsored by:ThinkGeek\\n# Welcome to geek heaven.\\n# http://thinkgeek.com/sf\\n# _______________________________________________\\n# Razor-users mailing list\\n# Razor-users@lists.sourceforge.net\\n# https://lists.sourceforge.net/lists/listinfo/razor-users\\n-----BEGIN PGP SIGNATURE-----\\nVersion: GnuPG v1.2.0 (GNU/Linux)\\n\\niD8DBQE9m9OxpwQdAVEbU7oRAifiAKCSXxSTb64bYgzo8PiXVVswqkXCKgCgnqby\\nYYrMsnaQOrQvEb7cDw5jios=\\n=SBk3\\n-----END PGP SIGNATURE-----\\n\""
      ]
     },
     "execution_count": 163,
     "metadata": {},
     "output_type": "execute_result"
    }
   ],
   "source": [
    "get_message_content(ham_emails[1604])"
   ]
  },
  {
   "cell_type": "code",
   "execution_count": 49,
   "metadata": {},
   "outputs": [
    {
     "data": {
      "text/plain": [
       "(2500, 500)"
      ]
     },
     "execution_count": 49,
     "metadata": {},
     "output_type": "execute_result"
    }
   ],
   "source": [
    "len(ham_emails), len(spam_emails)"
   ]
  },
  {
   "cell_type": "code",
   "execution_count": 314,
   "metadata": {},
   "outputs": [
    {
     "name": "stdout",
     "output_type": "stream",
     "text": [
      "(3000,)\n",
      "(3000,)\n"
     ]
    }
   ],
   "source": [
    "from sklearn.model_selection import train_test_split\n",
    "\n",
    "np.random.seed(42)\n",
    "\n",
    "X = np.array(ham_emails + spam_emails)\n",
    "y = np.array([0] * len(ham_emails) + [1] * len(spam_emails))\n",
    "\n",
    "print(X.shape)\n",
    "print(y.shape)\n",
    "\n",
    "X_train, X_test, y_train, y_test = train_test_split(X, y, test_size=0.2)"
   ]
  },
  {
   "cell_type": "code",
   "execution_count": 315,
   "metadata": {},
   "outputs": [
    {
     "data": {
      "text/plain": [
       "((2400,), (600,))"
      ]
     },
     "execution_count": 315,
     "metadata": {},
     "output_type": "execute_result"
    }
   ],
   "source": [
    "X_train.shape, X_test.shape"
   ]
  },
  {
   "cell_type": "code",
   "execution_count": 316,
   "metadata": {},
   "outputs": [
    {
     "data": {
      "text/plain": [
       "((2400,), (600,))"
      ]
     },
     "execution_count": 316,
     "metadata": {},
     "output_type": "execute_result"
    }
   ],
   "source": [
    "y_train.shape, y_test.shape"
   ]
  },
  {
   "cell_type": "code",
   "execution_count": 317,
   "metadata": {},
   "outputs": [],
   "source": [
    "html_emails = list(filter(lambda e: e.get_content_type() == 'text/html', ham_emails + spam_emails))\n",
    "html_email = html_emails[0]"
   ]
  },
  {
   "cell_type": "code",
   "execution_count": 318,
   "metadata": {},
   "outputs": [
    {
     "data": {
      "text/plain": [
       "'<!DOCTYPE HTML PUBLIC \"-//W3C//DTD HTML 4.0 Transitional//EN\">\\n<HTML><HEAD>\\n<META content=3D\"text/html; charset=3Dwindows-1252\" http-equiv=3DContent-T=\\nype>\\n<META content=3D\"MSHTML 5.00.2314.1000\" name=3DGENERATOR></HEAD>\\n<BODY><!-- Inserted by Calypso -->\\n<TABLE border=3D0 cellPadding=3D0 cellSpacing=3D2 id=3D_CalyPrintHeader_ r=\\nules=3Dnone \\nstyle=3D\"COLOR: black; DISPLAY: none\" width=3D\"100%\">\\n  <TBODY>\\n  <TR>\\n    <TD colSpan=3D3>\\n      <HR color=3Dblack noShade SIZE=3D1>\\n    </TD></TR></TD></TR>\\n  <TR>\\n    <TD colSpan=3D3>\\n      <HR color=3Dblack noShade SIZE=3D1>\\n    </TD></TR></TBODY></TABLE><!-- End Calypso --><!-- Inserted by Calypso=\\n --><FONT \\ncolor=3D#000000 face=3DVERDANA,ARIAL,HELVETICA size=3D-2><BR></FONT></TD><=\\n/TR></TABLE><!-- End Calypso --><FONT color=3D#ff0000 \\nface=3D\"Copperplate Gothic Bold\" size=3D5 PTSIZE=3D\"10\">\\n<CENTER>Save up to 70% on Life Insurance.</CENTER></FONT><FONT color=3D#ff=\\n0000 \\nface=3D\"Copperplate Gothic Bold\" size=3D5 PTSIZE=3D\"10\">\\n<CENTER>Why Spend More Than You Have To?\\n<CENTER><FONT color=3D#ff0000 face=3D\"Copperplate Gothic Bold\" size=3D5 PT=\\nSIZE=3D\"10\">\\n<CENTER>Life Quote Savings\\n<CENTER>\\n<P align=3Dleft></P>\\n<P align=3Dleft></P></FONT></U></I></B><BR></FONT></U></B></U></I>\\n<P></P>\\n<CENTER>\\n<TABLE border=3D0 borderColor=3D#111111 cellPadding=3D0 cellSpacing=3D0 wi=\\ndth=3D650>\\n  <TBODY></TBODY></TABLE>\\n<TABLE border=3D0 borderColor=3D#111111 cellPadding=3D5 cellSpacing=3D0 wi=\\ndth=3D650>\\n  <TBODY>\\n  <TR>\\n    <TD colSpan=3D2 width=3D\"35%\"><B><FONT face=3DVerdana size=3D4>Ensurin=\\ng your \\n      family\\'s financial security is very important. Life Quote Savings ma=\\nkes \\n      buying life insurance simple and affordable. We Provide FREE Access =\\nto The \\n      Very Best Companies and The Lowest Rates.</FONT></B></TD></TR>\\n  <TR>\\n    <TD align=3Dmiddle vAlign=3Dtop width=3D\"18%\">\\n      <TABLE borderColor=3D#111111 width=3D\"100%\">\\n        <TBODY>\\n        <TR>\\n          <TD style=3D\"PADDING-LEFT: 5px; PADDING-RIGHT: 5px\" width=3D\"100=\\n%\"><FONT \\n            face=3DVerdana size=3D4><B>Life Quote Savings</B> is FAST, EAS=\\nY and \\n            SAVES you money! Let us help you get started with the best val=\\nues in \\n            the country on new coverage. You can SAVE hundreds or even tho=\\nusands \\n            of dollars by requesting a FREE quote from Lifequote Savings. =\\nOur \\n            service will take you less than 5 minutes to complete. Shop an=\\nd \\n            compare. SAVE up to 70% on all types of Life insurance! \\n</FONT></TD></TR>\\n        <TR><BR><BR>\\n          <TD height=3D50 style=3D\"PADDING-LEFT: 5px; PADDING-RIGHT: 5px\" \\n          width=3D\"100%\">\\n            <P align=3Dcenter><B><FONT face=3DVerdana size=3D5><A \\n            href=3D\"http://website.e365.cc/savequote/\">Click Here For Your=\\n \\n            Free Quote!</A></FONT></B></P></TD>\\n          <P><FONT face=3DVerdana size=3D4><STRONG>\\n          <CENTER>Protecting your family is the best investment you\\'ll eve=\\nr \\n          make!<BR></B></TD></TR>\\n        <TR><BR><BR></STRONG></FONT></TD></TR></TD></TR>\\n        <TR></TR></TBODY></TABLE>\\n      <P align=3Dleft><FONT face=3D\"Arial, Helvetica, sans-serif\" size=3D2=\\n></FONT></P>\\n      <P></P>\\n      <CENTER><BR><BR><BR>\\n      <P></P>\\n      <P align=3Dleft><BR></B><BR><BR><BR><BR></P>\\n      <P align=3Dcenter><BR></P>\\n      <P align=3Dleft><BR></B><BR><BR></FONT>If you are in receipt of this=\\n email \\n      in error and/or wish to be removed from our list, <A \\n      href=3D\"mailto:coins@btamail.net.cn\">PLEASE CLICK HERE</A> AND TYPE =\\nREMOVE. If you \\n      reside in any state which prohibits e-mail solicitations for insuran=\\nce, \\n      please disregard this \\n      email.<BR></FONT><BR><BR><BR><BR><BR><BR><BR><BR><BR><BR><BR><BR><BR=\\n><BR><BR><BR></FONT></P></CENTER></CENTER></TR></TBODY></TABLE></CENTER></=\\nCENTER></CENTER></CENTER></CENTER></BODY></HTML>\\n\\n\\n\\n'"
      ]
     },
     "execution_count": 318,
     "metadata": {},
     "output_type": "execute_result"
    }
   ],
   "source": [
    "html_text = get_message_content(html_email)\n",
    "html_text"
   ]
  },
  {
   "cell_type": "code",
   "execution_count": 420,
   "metadata": {},
   "outputs": [],
   "source": [
    "import re\n",
    "import html\n",
    "from urlextract import URLExtract\n",
    "from nltk.stem.porter import PorterStemmer\n",
    "\n",
    "extractor = URLExtract()\n",
    "stemmer = PorterStemmer()\n",
    "\n",
    "def remove_html_tags(text):\n",
    "    text = re.sub('<.*?>', ' ', text, flags=re.M | re.S)\n",
    "    text = re.sub('\\n', ' ', text)\n",
    "    text = re.sub('\\+', ' ', text)\n",
    "    text = re.sub('=|%|<|>', ' ', text)\n",
    "    return html.unescape(text)\n",
    "\n",
    "def remove_punctuation(text):\n",
    "    return re.sub('\\.|,|;|:|\\?|!|-|\\'|\\/', ' ', text)\n",
    "\n",
    "def remove_brackets(text):\n",
    "    return re.sub('\\[|\\]', '', text)\n",
    "\n",
    "def replace_urls(text):\n",
    "    urls = extractor.find_urls(remove_brackets(text))\n",
    "    for url in urls:\n",
    "        text = text.replace(url, ' URL ')\n",
    "    return text\n",
    "\n",
    "def replace_numbers(text):\n",
    "    return re.sub('\\d+(:?\\d+)*(\\.\\d+)*', ' NUMBER ', text)\n",
    "\n",
    "def replace_emails(text):\n",
    "    return re.sub('[\\w\\.-]+@[\\w\\.-]+', ' EMAIL ', text)\n",
    "\n",
    "def remove_stem_words(tokens):\n",
    "    return [stemmer.stem(token) for token in tokens]"
   ]
  },
  {
   "cell_type": "code",
   "execution_count": 421,
   "metadata": {},
   "outputs": [
    {
     "data": {
      "text/plain": [
       "\"                                                                                    Save up to 70  on Life Insurance.     Why Spend More Than You Have To?     Life Quote Savings                                                 Ensurin  g your        family's financial security is very important. Life Quote Savings ma  kes        buying life insurance simple and affordable. We Provide FREE Access   to The        Very Best Companies and The Lowest Rates.                                                        Life Quote Savings  is FAST, EAS  Y and              SAVES you money! Let us help you get started with the best val  ues in              the country on new coverage. You can SAVE hundreds or even tho  usands              of dollars by requesting a FREE quote from Lifequote Savings.   Our              service will take you less than 5 minutes to complete. Shop an  d              compare. SAVE up to 70  on all types of Life insurance!                                              Click Here For Your                Free Quote!                               Protecting your family is the best investment you'll eve  r            make!                                                                                                                 If you are in receipt of this   email        in error and/or wish to be removed from our list,  PLEASE CLICK HERE  AND TYPE   REMOVE. If you        reside in any state which prohibits e-mail solicitations for insuran  ce,        please disregard this        email.                                    \""
      ]
     },
     "execution_count": 421,
     "metadata": {},
     "output_type": "execute_result"
    }
   ],
   "source": [
    "remove_html_tags(html_text)"
   ]
  },
  {
   "cell_type": "code",
   "execution_count": 422,
   "metadata": {},
   "outputs": [
    {
     "data": {
      "text/plain": [
       "'                                                                                    Save up to 70  on Life Insurance      Why Spend More Than You Have To      Life Quote Savings                                                 Ensurin  g your        family s financial security is very important  Life Quote Savings ma  kes        buying life insurance simple and affordable  We Provide FREE Access   to The        Very Best Companies and The Lowest Rates                                                         Life Quote Savings  is FAST  EAS  Y and              SAVES you money  Let us help you get started with the best val  ues in              the country on new coverage  You can SAVE hundreds or even tho  usands              of dollars by requesting a FREE quote from Lifequote Savings    Our              service will take you less than 5 minutes to complete  Shop an  d              compare  SAVE up to 70  on all types of Life insurance                                               Click Here For Your                Free Quote                                Protecting your family is the best investment you ll eve  r            make                                                                                                                  If you are in receipt of this   email        in error and or wish to be removed from our list   PLEASE CLICK HERE  AND TYPE   REMOVE  If you        reside in any state which prohibits e mail solicitations for insuran  ce         please disregard this        email                                     '"
      ]
     },
     "execution_count": 422,
     "metadata": {},
     "output_type": "execute_result"
    }
   ],
   "source": [
    "remove_punctuation(remove_html_tags(html_text))"
   ]
  },
  {
   "cell_type": "code",
   "execution_count": 423,
   "metadata": {},
   "outputs": [
    {
     "data": {
      "text/plain": [
       "'                                                                                    Save up to  NUMBER   on Life Insurance      Why Spend More Than You Have To      Life Quote Savings                                                 Ensurin  g your        family s financial security is very important  Life Quote Savings ma  kes        buying life insurance simple and affordable  We Provide FREE Access   to The        Very Best Companies and The Lowest Rates                                                         Life Quote Savings  is FAST  EAS  Y and              SAVES you money  Let us help you get started with the best val  ues in              the country on new coverage  You can SAVE hundreds or even tho  usands              of dollars by requesting a FREE quote from Lifequote Savings    Our              service will take you less than  NUMBER  minutes to complete  Shop an  d              compare  SAVE up to  NUMBER   on all types of Life insurance                                               Click Here For Your                Free Quote                                Protecting your family is the best investment you ll eve  r            make                                                                                                                  If you are in receipt of this   email        in error and or wish to be removed from our list   PLEASE CLICK HERE  AND TYPE   REMOVE  If you        reside in any state which prohibits e mail solicitations for insuran  ce         please disregard this        email                                     '"
      ]
     },
     "execution_count": 423,
     "metadata": {},
     "output_type": "execute_result"
    }
   ],
   "source": [
    "replace_numbers(remove_punctuation(remove_html_tags(html_text)))"
   ]
  },
  {
   "cell_type": "code",
   "execution_count": 424,
   "metadata": {},
   "outputs": [
    {
     "data": {
      "text/plain": [
       "'                                                                                    Save up to  NUMBER   on Life Insurance      Why Spend More Than You Have To      Life Quote Savings                                                 Ensurin  g your        family s financial security is very important  Life Quote Savings ma  kes        buying life insurance simple and affordable  We Provide FREE Access   to The        Very Best Companies and The Lowest Rates                                                         Life Quote Savings  is FAST  EAS  Y and              SAVES you money  Let us help you get started with the best val  ues in              the country on new coverage  You can SAVE hundreds or even tho  usands              of dollars by requesting a FREE quote from Lifequote Savings    Our              service will take you less than  NUMBER  minutes to complete  Shop an  d              compare  SAVE up to  NUMBER   on all types of Life insurance                                               Click Here For Your                Free Quote                                Protecting your family is the best investment you ll eve  r            make                                                                                                                  If you are in receipt of this   email        in error and or wish to be removed from our list   PLEASE CLICK HERE  AND TYPE   REMOVE  If you        reside in any state which prohibits e mail solicitations for insuran  ce         please disregard this        email                                     '"
      ]
     },
     "execution_count": 424,
     "metadata": {},
     "output_type": "execute_result"
    }
   ],
   "source": [
    "replace_urls(replace_numbers(remove_punctuation(remove_html_tags(html_text))))"
   ]
  },
  {
   "cell_type": "code",
   "execution_count": 425,
   "metadata": {},
   "outputs": [
    {
     "data": {
      "text/plain": [
       "'Check out this link  EMAIL , be quick!'"
      ]
     },
     "execution_count": 425,
     "metadata": {},
     "output_type": "execute_result"
    }
   ],
   "source": [
    "phrase = \"Check out this link spamassasin@gmail.com, be quick!\"\n",
    "replace_emails(phrase)"
   ]
  },
  {
   "cell_type": "code",
   "execution_count": 427,
   "metadata": {},
   "outputs": [
    {
     "data": {
      "text/plain": [
       "['If', 'receipt', 'email', 'error', 'wish', 'remov', 'list']"
      ]
     },
     "execution_count": 427,
     "metadata": {},
     "output_type": "execute_result"
    }
   ],
   "source": [
    "phrase = \"If you are in receipt of this email in error and or wish to be removed from our list\".split()\n",
    "remove_stem_words(remove_stop_words(phrase))"
   ]
  },
  {
   "cell_type": "code",
   "execution_count": 446,
   "metadata": {},
   "outputs": [],
   "source": [
    "from sklearn.base import BaseEstimator, TransformerMixin\n",
    "\n",
    "class WordsToCounter(BaseEstimator, TransformerMixin):\n",
    "    def __init__(self, \n",
    "                 remove_html_tags=True,\n",
    "                 remove_punctuation=True,\n",
    "                 replace_urls=True,\n",
    "                 replace_numbers=True,\n",
    "                 replace_emails=True,\n",
    "                 to_lowercase=True,\n",
    "                 stem_words=True):\n",
    "        self.remove_html_tags = remove_html_tags\n",
    "        self.remove_punctuation = remove_punctuation\n",
    "        self.replace_urls = replace_urls\n",
    "        self.replace_numbers = replace_numbers\n",
    "        self.replace_emails = replace_emails\n",
    "        self.to_lowercase = to_lowercase\n",
    "        self.stem_words = stem_words\n",
    "        \n",
    "    def fit(self, X, y=None):\n",
    "        return self\n",
    "    \n",
    "    def transform(self, X, y=None):\n",
    "        X_transformed = []\n",
    "        for email in X:\n",
    "            raw_text = get_message_content(email)\n",
    "            if self.to_lowercase:\n",
    "                raw_text = raw_text.lower()\n",
    "            if self.remove_html_tags:\n",
    "                raw_text = remove_html_tags(raw_text)\n",
    "            if self.replace_urls:\n",
    "                raw_text = replace_urls(raw_text)\n",
    "            if self.replace_numbers:\n",
    "                raw_text = replace_numbers(raw_text)\n",
    "            if self.replace_emails:\n",
    "                raw_text = replace_emails(raw_text)\n",
    "            if self.remove_punctuation:\n",
    "                raw_text = remove_punctuation(raw_text)\n",
    "            tokens = raw_text.split()\n",
    "            if self.stem_words:\n",
    "                tokens = remove_stem_words(tokens)\n",
    "            X_transformed.append(Counter(tokens))\n",
    "        return np.array(X_transformed)"
   ]
  },
  {
   "cell_type": "code",
   "execution_count": 465,
   "metadata": {},
   "outputs": [],
   "source": [
    "from scipy.sparse.csr import csr_matrix\n",
    "\n",
    "class WordsToVector(BaseEstimator, TransformerMixin):\n",
    "    def __init__(self, vocabulary_size=5000):\n",
    "        self.vocabulary_size = vocabulary_size\n",
    "        \n",
    "    def fit(self, X, y=None):\n",
    "        counter = Counter()\n",
    "        for document in X:\n",
    "            for word, count in document.items():\n",
    "                counter[word] += count\n",
    "        self.vocabulary_ = counter.most_common()[:self.vocabulary_size]\n",
    "        self.words_ = [occurence[0] for occurence in self.vocabulary_]\n",
    "        return self\n",
    "    \n",
    "    def transform(self, X, y=None):\n",
    "        rows = []\n",
    "        cols = []\n",
    "        data = []\n",
    "        for row, document in enumerate(X):\n",
    "            for word, count in document.items():\n",
    "                col = self.words_.index(word) if word in self.words_ else 0\n",
    "                cols.append(col)\n",
    "                data.append(1)\n",
    "                rows.append(row)\n",
    "        return csr_matrix((data, (rows, cols)), shape=(len(X), self.vocabulary_size))"
   ]
  },
  {
   "cell_type": "code",
   "execution_count": 466,
   "metadata": {},
   "outputs": [
    {
     "data": {
      "text/plain": [
       "(2400, 5000)"
      ]
     },
     "execution_count": 466,
     "metadata": {},
     "output_type": "execute_result"
    }
   ],
   "source": [
    "from sklearn.pipeline import Pipeline\n",
    "\n",
    "pipeline = Pipeline([\n",
    "    ('counter', WordsToCounter()),\n",
    "    ('vectorize', WordsToVector())\n",
    "])\n",
    "\n",
    "X_train_transformed = pipeline.fit_transform(X_train)\n",
    "X_train_transformed.shape"
   ]
  },
  {
   "cell_type": "code",
   "execution_count": 467,
   "metadata": {},
   "outputs": [
    {
     "name": "stderr",
     "output_type": "stream",
     "text": [
      "[Parallel(n_jobs=1)]: Done   3 out of   3 | elapsed:    0.1s finished\n"
     ]
    },
    {
     "data": {
      "text/plain": [
       "array([0.985  , 0.98625, 0.98875])"
      ]
     },
     "execution_count": 467,
     "metadata": {},
     "output_type": "execute_result"
    }
   ],
   "source": [
    "from sklearn.linear_model import LogisticRegression\n",
    "from sklearn.model_selection import cross_val_score\n",
    "\n",
    "log_clf = LogisticRegression()\n",
    "scores = cross_val_score(log_clf, X_train_transformed, y_train, cv=3, verbose=True)\n",
    "scores"
   ]
  },
  {
   "cell_type": "code",
   "execution_count": 468,
   "metadata": {},
   "outputs": [
    {
     "name": "stderr",
     "output_type": "stream",
     "text": [
      "[Parallel(n_jobs=1)]: Done   3 out of   3 | elapsed:    0.2s finished\n"
     ]
    },
    {
     "data": {
      "text/plain": [
       "array([0.95375, 0.9675 , 0.975  ])"
      ]
     },
     "execution_count": 468,
     "metadata": {},
     "output_type": "execute_result"
    }
   ],
   "source": [
    "from sklearn.ensemble import RandomForestClassifier\n",
    "\n",
    "forest_clf = RandomForestClassifier()\n",
    "scores = cross_val_score(forest_clf, X_train_transformed, y_train, cv=3, verbose=True)\n",
    "scores"
   ]
  },
  {
   "cell_type": "code",
   "execution_count": 469,
   "metadata": {},
   "outputs": [],
   "source": [
    "X_test_transformed = pipeline.fit_transform(X_test)"
   ]
  },
  {
   "cell_type": "code",
   "execution_count": 470,
   "metadata": {},
   "outputs": [
    {
     "name": "stdout",
     "output_type": "stream",
     "text": [
      "Score on test set: 0.86\n"
     ]
    }
   ],
   "source": [
    "log_clf = LogisticRegression()\n",
    "log_clf.fit(X_train_transformed, y_train)\n",
    "\n",
    "print(\"Score on test set: {:.2f}\".format(log_clf.score(X_test_transformed, y_test)))"
   ]
  },
  {
   "cell_type": "code",
   "execution_count": 471,
   "metadata": {},
   "outputs": [
    {
     "name": "stdout",
     "output_type": "stream",
     "text": [
      "             precision    recall  f1-score   support\n",
      "\n",
      "          0       0.87      0.98      0.92       505\n",
      "          1       0.66      0.20      0.31        95\n",
      "\n",
      "avg / total       0.83      0.86      0.82       600\n",
      "\n"
     ]
    }
   ],
   "source": [
    "from sklearn.metrics import classification_report\n",
    "\n",
    "y_log_clf_pred = log_clf.predict(X_test_transformed)\n",
    "\n",
    "# overall f1 score is very low :/\n",
    "print(classification_report(y_test, y_log_clf_pred))"
   ]
  },
  {
   "cell_type": "code",
   "execution_count": null,
   "metadata": {},
   "outputs": [],
   "source": []
  }
 ],
 "metadata": {
  "kernelspec": {
   "display_name": "Python 3",
   "language": "python",
   "name": "python3"
  },
  "language_info": {
   "codemirror_mode": {
    "name": "ipython",
    "version": 3
   },
   "file_extension": ".py",
   "mimetype": "text/x-python",
   "name": "python",
   "nbconvert_exporter": "python",
   "pygments_lexer": "ipython3",
   "version": "3.6.2"
  }
 },
 "nbformat": 4,
 "nbformat_minor": 2
}
